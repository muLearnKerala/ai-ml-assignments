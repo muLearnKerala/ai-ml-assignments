{
  "nbformat": 4,
  "nbformat_minor": 0,
  "metadata": {
    "colab": {
      "name": "Implementing-Logistic-Regression.ipynb",
      "version": "0.3.2",
      "provenance": []
    },
    "kernelspec": {
      "display_name": "Python 2",
      "language": "python",
      "name": "python2"
    }
  },
  "cells": [
    {
      "metadata": {
        "id": "LOOxNTzir7-1",
        "colab_type": "text"
      },
      "cell_type": "markdown",
      "source": [
        "# Implementing logistic regression\n",
        "\n",
        "In this assignment you will learn to implement logistic regression and apply it on a toy dataset. Logistic regression is a popular machine learning technique used for binary classification. In a binary classification problem, each input belongs to one of two classes, say 0 or 1, and the goal is to predict the correct class of each input. \n",
        "\n",
        "While logistic regression is a standard machine learning algorithm used for binary classification, it can also be thought of as a minimalistic neural network. Hence, we chose logistic regression for this exercise since it will help you understand some of the basic principles of machine learning and neural networks.\n",
        "\n",
        "#### Instructions\n",
        "-  Do not use any additional libraries other than what is already specified below\n",
        "-  Do not use loops in your code\n",
        "-  Do not edit \"Expected output\" markdown cells\n",
        "-  Use https://ai.mulearn.org/ for asking any questions you may have about this assignment\n"
      ]
    },
    {
      "metadata": {
        "id": "SKlz0RJ9r7-3",
        "colab_type": "text"
      },
      "cell_type": "markdown",
      "source": [
        "### 1. Import Libraries\n",
        "For this assignment we will import the following libraries:"
      ]
    },
    {
      "metadata": {
        "id": "Q2cWBhFfr7-3",
        "colab_type": "code",
        "colab": {
          "base_uri": "https://localhost:8080/",
          "height": 134
        },
        "outputId": "00c5da4a-3eff-40bf-9574-eac6bce736db"
      },
      "cell_type": "code",
      "source": [
        "#Checking out the repository to make it work with colab\n",
        "!git clone https://github.com/mulearnKerala/ai-ml-assignments.git"
      ],
      "execution_count": 1,
      "outputs": [
        {
          "output_type": "stream",
          "text": [
            "Cloning into 'ai-ml-assignments'...\n",
            "remote: Enumerating objects: 21, done.\u001b[K\n",
            "remote: Counting objects: 100% (21/21), done.\u001b[K\n",
            "remote: Compressing objects: 100% (17/17), done.\u001b[K\n",
            "remote: Total 145 (delta 6), reused 13 (delta 3), pack-reused 124\u001b[K\n",
            "Receiving objects: 100% (145/145), 911.75 KiB | 14.25 MiB/s, done.\n",
            "Resolving deltas: 100% (51/51), done.\n"
          ],
          "name": "stdout"
        }
      ]
    },
    {
      "metadata": {
        "id": "uO_7UsoYr7-7",
        "colab_type": "code",
        "colab": {}
      },
      "cell_type": "code",
      "source": [
        "import numpy as np\n",
        "import matplotlib.pyplot as plt\n",
        "\n",
        "import sys\n",
        "sys.path.append('ai-ml-assignments')\n",
        "from utils import utils\n",
        "\n"
      ],
      "execution_count": 0,
      "outputs": []
    },
    {
      "metadata": {
        "id": "gFrNnhk9r7-9",
        "colab_type": "text"
      },
      "cell_type": "markdown",
      "source": [
        "### 2. Sigmoid\n",
        "Let us start this assignment by implementing the sigmoid function: sigmoid(s) = $\\frac{1}{1+e^{-z}}$"
      ]
    },
    {
      "metadata": {
        "id": "Fky5uUXPr7--",
        "colab_type": "code",
        "colab": {}
      },
      "cell_type": "code",
      "source": [
        "def sigmoid(z):\n",
        "    \n",
        "    # Implement the sigmoid function\n",
        "    \n",
        "    # Arguments:\n",
        "    #    z: A set of values whose sigmoid needs to be computed and stored in the variable s\n",
        "    #\n",
        "    # Return value: \n",
        "    #    s: sigmoid of values in z \n",
        "    \n",
        "    # Implement the sigmoid function: s = 1/(1+e^(-z))\n",
        "    \n",
        "    s = 1/(1+np.exp(-z))\n",
        "    return s"
      ],
      "execution_count": 0,
      "outputs": []
    },
    {
      "metadata": {
        "id": "hBG40NkFr7_A",
        "colab_type": "text"
      },
      "cell_type": "markdown",
      "source": [
        "#### Testing\n",
        "Let us test if the sigmoid function is implemented correctly\n",
        "\n",
        "Check that for input values 10,  -5,   0,   5,  and 10 you get the expected output as given in the table below\n"
      ]
    },
    {
      "metadata": {
        "id": "1ckc7OKSr7_A",
        "colab_type": "code",
        "colab": {
          "base_uri": "https://localhost:8080/",
          "height": 67
        },
        "outputId": "a0a93d49-8ad7-4853-d8e1-2a12e1ba3bb7"
      },
      "cell_type": "code",
      "source": [
        "z = np.arange(-10,11,5)\n",
        "sig = sigmoid(z)\n",
        "print \"Input: \",z\n",
        "print \"Expected output: \",sig"
      ],
      "execution_count": 4,
      "outputs": [
        {
          "output_type": "stream",
          "text": [
            "Input:  [-10  -5   0   5  10]\n",
            "Expected output:  [4.53978687e-05 6.69285092e-03 5.00000000e-01 9.93307149e-01\n",
            " 9.99954602e-01]\n"
          ],
          "name": "stdout"
        }
      ]
    },
    {
      "metadata": {
        "id": "G3jVzDslr7_F",
        "colab_type": "text"
      },
      "cell_type": "markdown",
      "source": [
        "<table border=\"1\" class=\"dataframe\">  <thead>    <tr style=\"text-align: right;\">      <th>Input</th>      <th>Expected output</th>    </tr>  </thead>  <tbody>    <tr>      <td>-10.0</td>      <td>0.000045</td>    </tr>    <tr>      <td>-5.0</td>      <td>0.006693</td>    </tr>    <tr>      <td>0.0</td>      <td>0.500000</td>    </tr>    <tr>      <td>5.0</td>      <td>0.993307</td>    </tr>    <tr>      <td>10.0</td>      <td>0.999955</td>    </tr>  </tbody></table> "
      ]
    },
    {
      "metadata": {
        "id": "XuKisjF6r7_G",
        "colab_type": "text"
      },
      "cell_type": "markdown",
      "source": [
        "**Let us also visualize the sigmoid function**\n",
        "\n",
        "<img src=\"https://github.com/muLearnKerala/ai-ml-assignments/blob/master/LogisticRegression/sigmoid.jpg?raw=1\" align=\"left\" alt=\"Expected plot of sigmoid function\" title=\"Expected plot of sigmoid function\" />\n",
        "<p style=\"clear:left\">\n",
        "The sigmoid function you plot should look like the above figure.\n",
        "Run the cell below to visualize the sigmoid function you have implemented.\n",
        "</p>"
      ]
    },
    {
      "metadata": {
        "id": "YsI0Z1GGr7_G",
        "colab_type": "code",
        "colab": {
          "base_uri": "https://localhost:8080/",
          "height": 347
        },
        "outputId": "819db555-e139-4b32-f10c-cc2291d855d0"
      },
      "cell_type": "code",
      "source": [
        "z = np.arange(-10., 11., 1)\n",
        "sig = sigmoid(z)\n",
        "plt.plot(z,sig)\n",
        "plt.plot(z,sig,'bo')\n",
        "plt.show()"
      ],
      "execution_count": 5,
      "outputs": [
        {
          "output_type": "display_data",
          "data": {
            "image/png": "[encoded data removed]",
            "text/plain": [
              "<Figure size 576x396 with 1 Axes>"
            ]
          },
          "metadata": {
            "tags": []
          }
        }
      ]
    },
    {
      "metadata": {
        "id": "ia0llzmPr7_K",
        "colab_type": "text"
      },
      "cell_type": "markdown",
      "source": [
        "### 3. Data Representation and Parameters\n",
        "Assuming there are $m$ training samples, the pair $(x^{(i)}, \\hat{y}^{(i)})$ denote the $i^{th}$ training sample. Each training sample consists of $n$ features denoted by $x^{(i)}$ and the correponding class label $\\hat{y}^{(i)}$. For each training sample, the features $x^{(i)}$ can be thought of as an $n\\times1$ column vector. When we use $n$ features for representing an input, the number of parameters in logistic regression becomes $n+1$ where the first $n$ parameters are the weights $w$ and the last parameter is the bias term $b$. The optimal values for these parameters are determined during the training phase which consists of forward propagation and back propagation.\n",
        "\n",
        "For vectorized operations, we arrange the column vectors corresponding to all the features of the training samples in the form of a $n \\times m$ matrix $X$, the ground truth class labels as a $1 \\times m$ row vector $\\hat{y}$, and the weight parameters $w$ as a $n \\times 1$ column vector. Here is an example of three training samples each containing two features with class labels 0, 1, 0 respectively.\n",
        "$\n",
        "\\begin{align*}\n",
        "    x^{(1)} &= \\begin{bmatrix}\n",
        "           1 \\\\\n",
        "           2 \\\\\n",
        "         \\end{bmatrix};\n",
        "         &\n",
        "    x^{(2)} &= \\begin{bmatrix}\n",
        "           3 \\\\\n",
        "           4 \\\\\n",
        "         \\end{bmatrix};\n",
        "         &\n",
        "     x^{(3)} &= \\begin{bmatrix}\n",
        "       5 \\\\\n",
        "       6 \\\\\n",
        "     \\end{bmatrix}.\n",
        "     &\n",
        "     \\textrm{Then,}\\;\n",
        "     X &= \\begin{bmatrix}\n",
        "           1\\;3\\;5 \\\\\n",
        "           2\\;4\\;6\\\\\n",
        "         \\end{bmatrix},\n",
        "     &\n",
        "     \\hat y &= \\begin{bmatrix}\n",
        "           0\\;1\\;0\n",
        "         \\end{bmatrix}.\n",
        "\\end{align*}\n",
        "$\n",
        "\n",
        "The parameters to be estimated are the weights\n",
        "$\n",
        "\\begin{align*}\n",
        "     w &= \\begin{bmatrix}\n",
        "           w_1\\\\\n",
        "           w_2\\\\\n",
        "         \\end{bmatrix}, \n",
        "\\end{align*}\n",
        "$\n",
        "and the bias $b$.\n",
        "\n",
        "\n",
        " \n",
        "Use the cell below to create the parameters $w$ and $b$ and initialize them with zeros.\n"
      ]
    },
    {
      "metadata": {
        "id": "kaHM60FNr7_K",
        "colab_type": "code",
        "colab": {}
      },
      "cell_type": "code",
      "source": [
        "def create_params(n):\n",
        "    # Create the parameters w and b and initialise them with zeros\n",
        "    \n",
        "    # Arguments:\n",
        "    #    n: number of weights\n",
        "    #\n",
        "    # Return values:\n",
        "    #    w: the weights created  \n",
        "    #    b: bias term\n",
        "    \n",
        "    # Create a numpy array w of shape (n,1) which are initialized to zeros \n",
        "    w = \n",
        "    # Initialise bias term b to zero\n",
        "    b = \n",
        "    \n",
        "    return w,b"
      ],
      "execution_count": 0,
      "outputs": []
    },
    {
      "metadata": {
        "id": "yyzrcBNZr7_N",
        "colab_type": "text"
      },
      "cell_type": "markdown",
      "source": [
        "#### Testing \n",
        "Let us verify if create_params is creating the parameters correctly."
      ]
    },
    {
      "metadata": {
        "id": "_sRBtYd6r7_N",
        "colab_type": "code",
        "colab": {},
        "outputId": "fd07d0c0-dcc8-40af-b0f0-1d2479e31d94"
      },
      "cell_type": "code",
      "source": [
        "w,b = create_params(2)\n",
        "\n",
        "print w\n",
        "print b"
      ],
      "execution_count": 0,
      "outputs": [
        {
          "output_type": "stream",
          "text": [
            "[[0.]\n",
            " [0.]]\n",
            "0.0\n"
          ],
          "name": "stdout"
        }
      ]
    },
    {
      "metadata": {
        "id": "c1TjTFfMr7_Q",
        "colab_type": "text"
      },
      "cell_type": "markdown",
      "source": [
        "<table border=\"1\" class=\"dataframe\"> <thead>    <tr style=\"text-align: right;\">      <th>Expected output</th>    </tr>  </thead><tbody> <tr style=\"text-align: right;\"><td>  [ [0. ] <br/>&nbsp; [0. ] ] <br/> 0.0   </td></tr>  </tbody></table>"
      ]
    },
    {
      "metadata": {
        "id": "grsa0PI_r7_Q",
        "colab_type": "text"
      },
      "cell_type": "markdown",
      "source": [
        "### 4. Forward Propagation\n",
        "  \n",
        "To train our simple neural network i.e., to estimate the parameters, we need to do forward and backward propagation. During forward propagation, you determine using a loss function how good the current value of the parameters are. The loss function for logistic regression (our simple neural network) using $m$ training samples is:\n",
        "\n",
        "$L = -\\frac{1}{m}\\sum_{i=1}^{m}\\hat y^{(i)}\\log(a^{(i)})+(1-\\hat y^{(i)})\\log(1-a^{(i)})$\n",
        "\n",
        "where $a^{(i)} = sigmoid( \\sum_{j=1}^{n} w_jx^{(i)}_j + b) $ is the activation for the i-th training sample.\n",
        "\n",
        "You have to implement the forward propagation and return the value of the activation and loss using vectorized implementations (no loops)."
      ]
    },
    {
      "metadata": {
        "id": "Ov1Iqf22r7_R",
        "colab_type": "code",
        "colab": {}
      },
      "cell_type": "code",
      "source": [
        "def forward_propagate(X,yhat,w,b):\n",
        "    # Implement forward propagation\n",
        "    \n",
        "    # Arguments:\n",
        "    #    X    : n features of m training samples represented as an nxm matrix\n",
        "    #    yhat : the groundtruth values for the m training samples represented as an 1xm matrix\n",
        "    #    w    : the n weight parameters\n",
        "    #    b    : the bias term b\n",
        "    #\n",
        "    # Return values:\n",
        "    #    a    : the activation of all the training samples calculated according to the formula above\n",
        "    #    loss : the loss calculated according to the formula above\n",
        "    \n",
        "    \n",
        "    # Calculate the activation using sigmoid function based on the formula above. You need to store \n",
        "    # the activation for all the training elements in an appropriate matrix.\n",
        "    a = \n",
        "    \n",
        "    # Calculate the loss using the equation for L above\n",
        "    loss = \n",
        "    \n",
        "    return a,loss"
      ],
      "execution_count": 0,
      "outputs": []
    },
    {
      "metadata": {
        "id": "HJNCSnwjr7_U",
        "colab_type": "text"
      },
      "cell_type": "markdown",
      "source": [
        "#### Testing \n",
        "To test forward and backward propagation, let us use the values below for $w, b, X,$ and $\\hat y$. Check that the activation and loss returned by the forward_propagate function matches the expected values."
      ]
    },
    {
      "metadata": {
        "id": "sX2jfuo-r7_V",
        "colab_type": "code",
        "colab": {},
        "outputId": "3f8a5b2f-0041-4478-b42e-33f03bcd35b1"
      },
      "cell_type": "code",
      "source": [
        "w = np.array([[0], [1]])\n",
        "b = 2\n",
        "X = np.array([[1, 3, 5],[2, 4, 6]]) \n",
        "yhat = np.array([[1, 0, 1]])\n",
        "a,loss = forward_propagate(X,yhat,w,b)\n",
        "print a\n",
        "print loss"
      ],
      "execution_count": 0,
      "outputs": [
        {
          "output_type": "stream",
          "text": [
            "[[0.98201379 0.99752738 0.99966465]]\n",
            "2.006987006476161\n"
          ],
          "name": "stdout"
        }
      ]
    },
    {
      "metadata": {
        "id": "OLC_N5O4r7_Z",
        "colab_type": "text"
      },
      "cell_type": "markdown",
      "source": [
        "<table border=\"1\" class=\"dataframe\"> <thead>    <tr style=\"text-align: right;\">      <th>Expected output</th>    </tr>  </thead><tbody> <tr style=\"text-align: right;\"><td>  [[0.98201379 0.99752738 0.99966465]] <br/>2.006987006476161</td></tr>  </tbody></table>"
      ]
    },
    {
      "metadata": {
        "id": "_gg_8FtHr7_Z",
        "colab_type": "text"
      },
      "cell_type": "markdown",
      "source": [
        "### 5. Backward Propagation\n",
        "\n",
        "Now let us implement the backward propagation where you compute the derivatives of the loss function with respect to the parameters $w$ and $b$. The derivatives are given by:\n",
        "\n",
        "\\begin{align}\n",
        "\\frac{\\partial L}{\\partial w_j} &= \\frac{1}{m} \\sum_{i=1}^{m} x^{(i)}_j \\cdot (a^{(i)}-\\hat y^{(i)})\\\\\n",
        "\\frac{\\partial L}{\\partial b} &= \\frac{1}{m} \\sum_{i=1}^m (a^{(i)}-y^{(i)})\n",
        "\\end{align}\n",
        "You should write a vectorized implementation without using any loops."
      ]
    },
    {
      "metadata": {
        "id": "JuTqxVXvr7_a",
        "colab_type": "code",
        "colab": {}
      },
      "cell_type": "code",
      "source": [
        "def backward_propagate(X,yhat,a):\n",
        "    # Implement backward propagation using the equations above without using any loops\n",
        "    \n",
        "    # Arguments:\n",
        "    #    X    : n features of m training samples represented as an nxm matrix\n",
        "    #    yhat : the groundtruth values for the m training samples represented as an 1xm matrix\n",
        "    #    a    : the activation of the training samples\n",
        "    #\n",
        "    # Return values:\n",
        "    #    dw   : derivative of loss with respect to w\n",
        "    #    db   : derivative of loss with respect to b\n",
        "    \n",
        "    # Determine the number of trainining samples m from the shape of X\n",
        "    m = \n",
        "    # Calculate dw = dL/dw using the equation above without using any loops\n",
        "    dw = \n",
        "    # Calculate db = dL/db using the equation above without using any loops\n",
        "    db = \n",
        "    \n",
        "    #return derivative of loss with respect to w and b, i.e., dw and db\n",
        "    return dw,db"
      ],
      "execution_count": 0,
      "outputs": []
    },
    {
      "metadata": {
        "id": "QVzCF--Kr7_d",
        "colab_type": "text"
      },
      "cell_type": "markdown",
      "source": [
        "#### Testing \n",
        "Check that the results match the expected output."
      ]
    },
    {
      "metadata": {
        "id": "dgAnrtQNr7_d",
        "colab_type": "code",
        "colab": {},
        "outputId": "034f91c0-ebf3-41d2-9fbc-93671a29c4fb"
      },
      "cell_type": "code",
      "source": [
        "w = np.array([[0], [1]])\n",
        "b = 2\n",
        "X = np.array([[1, 3, 5],[2, 4, 6]]) \n",
        "yhat = np.array([[1, 0, 1]])\n",
        "dw,db = backward_propagate(X,yhat,a)\n",
        "print dw\n",
        "print db"
      ],
      "execution_count": 0,
      "outputs": [
        {
          "output_type": "stream",
          "text": [
            "[[0.99097306]\n",
            " [1.317375  ]]\n",
            "0.3264019389169358\n"
          ],
          "name": "stdout"
        }
      ]
    },
    {
      "metadata": {
        "id": "BTzqhIIyr7_h",
        "colab_type": "text"
      },
      "cell_type": "markdown",
      "source": [
        "<table border=\"1\" class=\"dataframe\"> <thead>    <tr style=\"text-align: left;\">      <th>Expected output</th>    </tr>  </thead><tbody> <tr style=\"text-align: left;\"><td>  [[0.99097306]<br/>[1.317375  ]]<br/>0.3264019389169358</td></tr>  </tbody></table>"
      ]
    },
    {
      "metadata": {
        "id": "iluQp8h6r7_k",
        "colab_type": "text"
      },
      "cell_type": "markdown",
      "source": [
        "### 6. Finding the optimal value for the parameters\n",
        "\n",
        "Using the forward and backward propagation that was implemented above, let us now write the function that will do gradient descent and determine the optimal value of the parameters that minimizes the loss. The gradient descent rule is:\n",
        "$ \\theta = \\theta - \\alpha \\cdot \\frac{\\partial L}{\\partial \\theta} $\n",
        "where $\\theta$ is a parameter that needs to be updated, $\\frac{\\partial L}{\\partial \\theta}$ is the gradient of  loss function $L$ with respect to $\\theta$ and $\\alpha$ is the learning rate.\n",
        "\n",
        "Let us call this function fit. It takes as arguments the input $X$, the groundtruth labels $\\hat y$, the number of iterations to run, and the learning rate. "
      ]
    },
    {
      "metadata": {
        "id": "rjODxlp4r7_n",
        "colab_type": "code",
        "colab": {}
      },
      "cell_type": "code",
      "source": [
        "def fit(X,yhat,numiter=5000,lr=0.05,display_loss = False):\n",
        "    # Implement the fit fuction that determines optimal values for the parameters w and b using gradient descent.\n",
        "    \n",
        "    # Arguments:\n",
        "    #    X            : n features of m training samples represented as an nxm matrix\n",
        "    #    yhat         : the groundtruth values for the m training samples represented as an 1xm matrix\n",
        "    #    numiter      : number of iterations for running the gradient descent \n",
        "    #    lr           : learning rate for the gradient descent\n",
        "    #    display_loss : whether to display loss\n",
        "    #\n",
        "    # Return values:\n",
        "    #    w            : weights determined by the gradient descent\n",
        "    #    b            : bias determined by the gradient descent\n",
        "    \n",
        "    # Determine the number of features from the shape of X\n",
        "    n = \n",
        "    \n",
        "    # Create the weights and bias\n",
        "    w,b = create_params(n)\n",
        "    \n",
        "    # Iterate for numiter steps\n",
        "    for i in range(numiter):\n",
        "        \n",
        "        # Calculate activation and loss using forward propagation\n",
        "        a,loss = \n",
        "        \n",
        "        # Calculate dw and db using backward propagation\n",
        "        dw,db = \n",
        "        \n",
        "        # Calculate the updated parameters by moving a small step (lr) in the opposite direction of the gradient\n",
        "        w = w - \n",
        "        b = b - \n",
        "        \n",
        "        if display_loss and i % 100 == 0:\n",
        "            print loss\n",
        "            \n",
        "    # Return the parameters w and b\n",
        "    return w,b"
      ],
      "execution_count": 0,
      "outputs": []
    },
    {
      "metadata": {
        "id": "EzlSizJ7r7_q",
        "colab_type": "text"
      },
      "cell_type": "markdown",
      "source": [
        "#### Testing \n",
        "Check that the results match the expected output."
      ]
    },
    {
      "metadata": {
        "id": "iJD8Ks6Nr7_s",
        "colab_type": "code",
        "colab": {},
        "outputId": "fe5edaf8-d01d-4d84-e95f-d2b00c0ccf1c"
      },
      "cell_type": "code",
      "source": [
        "w,b = fit(X,yhat,500,0.005,True)\n",
        "print w\n",
        "print b"
      ],
      "execution_count": 0,
      "outputs": [
        {
          "output_type": "stream",
          "text": [
            "0.6931471805599453\n",
            "0.6450579810362779\n",
            "0.6445228298368414\n",
            "0.6440564031501352\n",
            "0.6436175793664201\n",
            "[[0.02845113]\n",
            " [0.10866157]]\n",
            "0.08021044325121013\n"
          ],
          "name": "stdout"
        }
      ]
    },
    {
      "metadata": {
        "id": "P-Y7T9bjr7_u",
        "colab_type": "text"
      },
      "cell_type": "markdown",
      "source": [
        "<table border=\"1\" class=\"dataframe\"> <thead>    <tr style=\"text-align: left;\">      <th>Expected output</th>    </tr>  </thead><tbody> <tr style=\"text-align: left;\"><td>  \n",
        "\n",
        "0.6931471805599453<br/>\n",
        "0.6450579810362779<br/>\n",
        "0.6445228298368414<br/>\n",
        "0.6440564031501352<br/>\n",
        "0.6436175793664201<br/>\n",
        "    [[0.02845113]<br/>\n",
        " [0.10866157]] <br/>\n",
        "    0.08021044325121013\n",
        "    </td></tr>  </tbody></table>"
      ]
    },
    {
      "metadata": {
        "id": "Avi4oSB7r7_u",
        "colab_type": "text"
      },
      "cell_type": "markdown",
      "source": [
        "### 7. Inference using the learned parameters\n",
        "Finally, let us write a function that will make predictions for a new input."
      ]
    },
    {
      "metadata": {
        "id": "YZroMCcYr7_w",
        "colab_type": "code",
        "colab": {}
      },
      "cell_type": "code",
      "source": [
        "def predict(X,w,b):\n",
        "    # Implement the function to predict the output for a new input using the learned parameters.\n",
        "    \n",
        "    # Arguments:\n",
        "    #    X    : n features of m training samples represented as an nxm matrix\n",
        "    #    w    : weights determined by the training\n",
        "    #    b    : bias determined by the training\n",
        "    #\n",
        "    # Return values:\n",
        "    #    pred : prediction for each test sample\n",
        "    \n",
        "    \n",
        "    # Determine the activation for each input test sample\n",
        "    act = \n",
        "    \n",
        "    # Since we are using a binary classifer, the output has to be either a 0 or a 1, so you need\n",
        "    # to convert the activation to a 0 or a 1.\n",
        "    pred = \n",
        "    \n",
        "    return pred"
      ],
      "execution_count": 0,
      "outputs": []
    },
    {
      "metadata": {
        "id": "PHxm-UbEr7_y",
        "colab_type": "text"
      },
      "cell_type": "markdown",
      "source": [
        "#### Testing \n",
        "Check that the results match the expected output."
      ]
    },
    {
      "metadata": {
        "id": "Q1wFVdOgr7_y",
        "colab_type": "code",
        "colab": {},
        "outputId": "da6a8715-3b89-4e3e-df36-aac6ffb19e42"
      },
      "cell_type": "code",
      "source": [
        "w = np.array([[0], [1]])\n",
        "b = 2\n",
        "X = np.array([[1, 3, 5],[2, 4, 6]])\n",
        "pred = predict(X,w,b)\n",
        "print pred"
      ],
      "execution_count": 0,
      "outputs": [
        {
          "output_type": "stream",
          "text": [
            "[[1. 1. 1.]]\n"
          ],
          "name": "stdout"
        }
      ]
    },
    {
      "metadata": {
        "id": "CfhxYHoVr7_2",
        "colab_type": "text"
      },
      "cell_type": "markdown",
      "source": [
        "<table border=\"1\" class=\"dataframe\"> <thead>    <tr style=\"text-align: left;\">      <th>Expected output</th>    </tr>  </thead>\n",
        "    <tbody>\n",
        "        <tr style=\"text-align: left;\">\n",
        "            <td>\n",
        "                [[1. 1. 1.]]<br/>\n",
        "            </td>\n",
        "        </tr>\n",
        "    </tbody>\n",
        "</table>"
      ]
    },
    {
      "metadata": {
        "id": "Phlg4HEXr7_3",
        "colab_type": "text"
      },
      "cell_type": "markdown",
      "source": [
        "### 8. Putting it all together\n",
        "\n",
        "Now let us put it all together to classify a simple dataset. Let us first create a simple dataset, split it into training and testing sets and visualise it. For this, we will use the code from http://cs231n.github.io/neural-networks-case-study/"
      ]
    },
    {
      "metadata": {
        "id": "6ZYUw875r7_4",
        "colab_type": "code",
        "colab": {},
        "outputId": "e9e9156a-c8ff-4487-d024-1765227ae18b"
      },
      "cell_type": "code",
      "source": [
        "\n",
        "X_train,yhat_train,X_test,yhat_test = utils.create_simple_dataset()"
      ],
      "execution_count": 0,
      "outputs": [
        {
          "output_type": "display_data",
          "data": {
            "image/png": "[encoded data removed]",
            "text/plain": [
              "<matplotlib.figure.Figure at 0x7f70725c7210>"
            ]
          },
          "metadata": {
            "tags": [],
            "needs_background": "light"
          }
        },
        {
          "output_type": "display_data",
          "data": {
            "image/png": "[encoded data removed]",
            "text/plain": [
              "<matplotlib.figure.Figure at 0x7f70724fd790>"
            ]
          },
          "metadata": {
            "tags": [],
            "needs_background": "light"
          }
        }
      ]
    },
    {
      "metadata": {
        "id": "-vNMw16br7_6",
        "colab_type": "text"
      },
      "cell_type": "markdown",
      "source": [
        "Using the training set, let us estimate the parameters and use it for prediction."
      ]
    },
    {
      "metadata": {
        "id": "8-KOAdRCr7_6",
        "colab_type": "code",
        "colab": {},
        "outputId": "929ecebc-290a-4e9e-b6a6-c2950d355f08"
      },
      "cell_type": "code",
      "source": [
        "\n",
        "w,b = fit(X_train,yhat_train,5000,0.05)\n",
        "\n",
        "res = predict(X_test,w,b)\n",
        "\n",
        "print \"Accuracy of prediction: \" + str(np.sum(res == yhat_test)/float(res.shape[1]))"
      ],
      "execution_count": 0,
      "outputs": [
        {
          "output_type": "stream",
          "text": [
            "Accuracy of prediction: 0.675\n"
          ],
          "name": "stdout"
        }
      ]
    },
    {
      "metadata": {
        "id": "EiFjCz38r7_9",
        "colab_type": "text"
      },
      "cell_type": "markdown",
      "source": [
        "Let us now visualize the classifier"
      ]
    },
    {
      "metadata": {
        "id": "-vRVcDqmr7_9",
        "colab_type": "code",
        "colab": {},
        "outputId": "b01d1777-9b8e-4897-f8ef-6ec102116ca4"
      },
      "cell_type": "code",
      "source": [
        "utils.vis_classifier(X_test,yhat_test,w,b,predict)"
      ],
      "execution_count": 0,
      "outputs": [
        {
          "output_type": "display_data",
          "data": {
            "image/png": "[encoded data removed]",
            "text/plain": [
              "<matplotlib.figure.Figure at 0x7f7072431e50>"
            ]
          },
          "metadata": {
            "tags": [],
            "needs_background": "light"
          }
        }
      ]
    },
    {
      "metadata": {
        "id": "F8RRkekWr8AA",
        "colab_type": "text"
      },
      "cell_type": "markdown",
      "source": [
        "### 9. Some questions for discussion\n",
        "You can ask any question you may have about this assignment in the discussion forum https://ai.mulearn.org/. Here are a couple of questions to get you started:\n",
        "\n",
        "1. https://ai.mulearn.org/t/what-is-the-intuitive-meaning-of-sigmoid-function-and-linear-decision-boundary-in-logistic-regression/70\n",
        "\n",
        "1. https://ai.mulearn.org/t/why-should-minimizing-the-loss-function-of-logistic-regression-result-in-high-accuracy-predictions/71\n",
        "\n",
        "    "
      ]
    },
    {
      "metadata": {
        "id": "9_cg6C9nr8AB",
        "colab_type": "code",
        "colab": {}
      },
      "cell_type": "code",
      "source": [
        ""
      ],
      "execution_count": 0,
      "outputs": []
    }
  ]
}